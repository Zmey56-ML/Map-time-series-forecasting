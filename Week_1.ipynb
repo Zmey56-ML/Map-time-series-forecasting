{
  "nbformat": 4,
  "nbformat_minor": 0,
  "metadata": {
    "colab": {
      "name": "Week_1.ipynb",
      "provenance": [],
      "collapsed_sections": [],
      "toc_visible": true,
      "machine_shape": "hm"
    },
    "kernelspec": {
      "name": "python3",
      "display_name": "Python 3"
    }
  },
  "cells": [
    {
      "cell_type": "markdown",
      "metadata": {
        "id": "gqxv96XqOXnd",
        "colab_type": "text"
      },
      "source": [
        "# Прогнозирование временных рядов на карте\n",
        "\n",
        "**Задача этого проекта** — научиться предсказывать количество поездок в ближайшие часы в каждом районе Нью-Йорка. Для того, чтобы её решить, сырые данные необходимо агрегировать по часам и районам. Агрегированные данные будут представлять собой почасовые временные ряды с количествами поездок из каждого района. Похожие задачи возникают на практике, если вам необходимо спрогнозировать продажи большого количества товаров в большом количестве магазинов, объём снятия денег в сети банкоматов, посещаемость разных страниц сайта и т.д."
      ]
    },
    {
      "cell_type": "markdown",
      "metadata": {
        "id": "awi8iCPBOuvx",
        "colab_type": "text"
      },
      "source": [
        "# Жёлтое такси в Нью-Йорке\n",
        "\n",
        "Нью-Йоркская комиссия по такси и лимузинам (TLC) предоставляет подробные анонимизированные данные о поездках клиентов с 2009 года. Машины, выкрашенные жёлтым, имеют право брать пассажиров на улицах в любом из пяти боро города.\n",
        "\n",
        "Сырые данные о поездках в жёлтом такси можно найти на сайте [TLC:](www.nyc.gov/html/tlc/html/about/trip_record_data.shtml) Эти данные разбиты на файлы по месяцам. В каждом из файлов содержится следующая информация о поездках:\n",
        "\n",
        "* время начала поездки\n",
        "* время окончания поездки\n",
        "* долгота и широта точки начала поездки\n",
        "* долгота и широта точки окончания поездки\n",
        "* количество пассажиров\n",
        "* расстояние по счётчику\n",
        "* тип тарифа (одна из шести категорий)\n",
        "* способ оплаты (одна из шести категорий)\n",
        "* стоимость поездки по счётчику\n",
        "* налог на счётчик\n",
        "* доплата за поездки в пиковые часы и ночью\n",
        "* доплата за проезд по платным дорогам\n",
        "* доплата за проезд, взимаемая с каждой поездки с января 2015\n",
        "* размер чаевых\n",
        "* общая стоимость поездки\n",
        "* провайдер данных (одна из двух категорий)\n",
        "* бинарный флаг, показывающий, были ли данные о поезде получены немедленно после её окончания, или какое-то время хранились в памяти автомобиля.\n",
        "\n",
        "Подробнее: http://www.nyc.gov/html/tlc/downloads/pdf/data_dictionary_trip_records_yellow.pdf\n",
        "\n",
        "Задача проекта — научиться предсказывать количество поездок в ближайшие часы в каждом районе Нью-Йорка; для простоты мы определим прямоугольные районы. Для того, чтобы её решить, сырые данные необходимо агрегировать по часам и районам. Агрегированные данные будут представлять собой почасовые временные ряды с количествами поездок из каждого района.\n",
        "\n",
        "Задачу прогнозирования таких рядов можно решать с помощью авторегрессионных моделей, прогнозируя каждый ряд независимо. Ряды явно имеют сложную сезонность — суточную, недельную и годовую, поэтому для их моделирования понадобится использовать модель ARIMA с дополнительной регрессией на внешние признаки.\n",
        "\n",
        "Чтобы улучшить такую модель, можно попытаться учесть:\n",
        "\n",
        "* взаимосвязи между рядами\n",
        "* дополнительные параметры поездок, которые можно посчитать по исходным данным\n",
        "* внешние календарные и географические признаки\n",
        "\n",
        "В ходе выполнения проекта вы научитесь:\n",
        "\n",
        "* работать с геоданными\n",
        "* прогнозировать временные ряды сложной структуры\n",
        "* строить и настраивать регрессионные модели, делающие совместные предсказания для большого количества взаимосвязанных рядов\n",
        "\n",
        "Похожие задачи возникают на практике, если вам необходимо спрогнозировать продажи большого количества товаров в большом количестве магазинов, объём снятия денег в сети банкоматов, посещаемость разных страниц сайта и т.д.\n",
        "\n",
        "В ходе выполнения проекта у вас будет свобода выбора хода решения, используемых средств анализа, библиотек и моделей. Также обратите внимание, что для его успешного выполнения вам нужно будет скачать и обработать от 10 до 200 гигабайт сырых данных.\n",
        "\n",
        "# Знакомство с данными и агрегация\n",
        "\n",
        "Скачайте сырые данные о поездках жёлтого такси с сайта TLC: www.nyc.gov/html/tlc/html/about/trip_record_data.shtml\n",
        "\n",
        "Поездки зелёного такси и лимузинов нас не интересуют!\n",
        "\n",
        "Данные выложены в файлах по месяцам. Скачайте так много данных жёлтого такси, как сможете; чем больше вы будете использовать данных, тем точнее получатся ваши прогнозы. Если вы решите использовать не все данные, а только часть, выбирайте её по времени с конца. Абсолютный минимум необходимых данных — 6 месяцев: один, последний месяц, вам понадобится для тестирования, предшествующие 5 — для обучения. По 5 месяцам можно построить прогнозы, учитывающие дневную и недельную сезонности, но в данных есть и годовая. Чтобы её учесть, необходимы данные как минимум за 2 года.\n",
        "\n",
        "Обработайте сырые данные по следующей схеме.\n",
        "\n",
        "1. Почистите данные от ошибок и аномалий.\n",
        "2. Отбросьте минуты и секунды во времени начала поездки.\n",
        "3. Нью-Йорк вписан в прямоугольник от -74.25559 до -73.70001 градусов долготы и от 40.49612 до 40.91553 широты. Разбейте этот прямоугольник на 2500 одинаковых прямоугольных областей — по 50 интервалов вдоль каждой оси.\n",
        "4. Посчитайте количество поездок за каждый час из каждой области. Не забудьте, что если в сырых данных для какой-то пары час-область нет ни одной записи, то в агрегированных данных для неё должен стоять 0.\n",
        "\n",
        "В дальнейшем, когда вы будете предсказывать получившиеся ряды, нужно будет загружать ваши прогнозы на kaggle, поэтому нужно, чтобы идентификаторы ячеек были определены однозначно. В следующем файле даны идентификаторы ячеек, которые вам нужно использовать, и географические координаты их границ:\n",
        "\n",
        "[regions.csv](https://stepik.org/media/attachments/lesson/90609/_5fd0fb3db5dfaaafa4d9fc4c00dd5ea8_regions.csv)\n",
        "\n",
        "Для сдачи задания этой недели вам нужно агрегировать только данные за май 2016, но, когда задание будет сдано, не забудьте запустить ваш агрегирующий скрипт на всех остальных месяцах, которые вы собираетесь использовать при прогнозировании.\n",
        "\n",
        "Чтобы сдать задание, выполните следующую последовательность действий.\n",
        "\n",
        "1. Загрузите данные за май 2016 года.\n",
        "\n",
        "2. Проведите фильтрацию: удалите поездки с\n",
        "\n",
        "* нулевой длительностью\n",
        "* нулевым количеством пассажиров\n",
        "* нулевым расстоянием поездки по счётчику\n",
        "* координатами начала, не попадающими в прямоугольник Нью-Йорка\n",
        "\n",
        "Можно придумать ещё какие-то критерии для фильтрации данных; тем не менее, не стоит применять дополнительные фильтры: начиная с четвёртой недели вам предстоит сравнивать качество ваших прогнозов с качеством прогнозов других слушателей, и, чтобы это сравнение было корректным, нужно, чтобы данные у всех были предобработаны одинаково.\n",
        "\n",
        "3. Агрегируйте данные за май 2016 года по часам и областям (можно использовать функцию stats.binned_statistic_2d, с которой вы сталкивались в заданиях четвёртого курса). Не забудьте проверить, что идентификаторы, которые вы присваиваете ячейкам, соответствуют приложенному выше файлу.\n",
        "\n",
        "4. Выведите первые строки полученной таблицы с указанием времени, идентификатора зоны и количества поездок.\n",
        "\n",
        "5. Постройте график количества поездок жёлтого такси из ячейки, содержащей Empire State Building.\n",
        "\n",
        "6. Посчитайте, сколько в мае 2016 было пар час-ячейка, для которых не было совершено ни одной поездки.\n",
        "\n",
        "7. Загрузите ноутбук в форму ниже"
      ]
    },
    {
      "cell_type": "code",
      "metadata": {
        "id": "jY5pj4kNkc7H",
        "colab_type": "code",
        "outputId": "6414b36a-0264-43cd-c029-2ef00f4e18f5",
        "colab": {
          "base_uri": "https://localhost:8080/",
          "height": 34
        }
      },
      "source": [
        "from google.colab import drive\n",
        "drive.mount('/content/gdrive')"
      ],
      "execution_count": 5,
      "outputs": [
        {
          "output_type": "stream",
          "text": [
            "Drive already mounted at /content/gdrive; to attempt to forcibly remount, call drive.mount(\"/content/gdrive\", force_remount=True).\n"
          ],
          "name": "stdout"
        }
      ]
    },
    {
      "cell_type": "code",
      "metadata": {
        "id": "jgrAQ2fjla8d",
        "colab_type": "code",
        "colab": {}
      },
      "source": [
        "import time\n",
        "import pandas as pd\n",
        "import datetime as dt\n",
        "import numpy as np\n",
        "import matplotlib.pyplot as plt\n",
        "import seaborn as sns\n",
        "from scipy.stats import binned_statistic_2d\n",
        "from datetime import date"
      ],
      "execution_count": 0,
      "outputs": []
    },
    {
      "cell_type": "code",
      "metadata": {
        "id": "LhGt4I0vOoLp",
        "colab_type": "code",
        "colab": {}
      },
      "source": [
        "# координаты нью-йорка\n",
        "ny_longitude_west = -74.25559\n",
        "ny_longitude_east = -73.70001\n",
        "ny_latitude_north = 40.91553\n",
        "ny_latitude_south = 40.49612"
      ],
      "execution_count": 0,
      "outputs": []
    },
    {
      "cell_type": "markdown",
      "metadata": {
        "id": "FIiVbTlvmmg_",
        "colab_type": "text"
      },
      "source": [
        "### 1. Загрузите данные за май 2016 года."
      ]
    },
    {
      "cell_type": "code",
      "metadata": {
        "id": "YNnI_WAXlXRX",
        "colab_type": "code",
        "colab": {}
      },
      "source": [
        "data_taxi = pd.read_csv('/content/gdrive/My Drive/DATA/Stepik/yellow_tripdata_2016-05.csv')"
      ],
      "execution_count": 0,
      "outputs": []
    },
    {
      "cell_type": "code",
      "metadata": {
        "id": "P_PcRn8hm4pj",
        "colab_type": "code",
        "outputId": "ce2d020a-6254-44ae-d53a-c2a0fbcc95c5",
        "colab": {
          "base_uri": "https://localhost:8080/",
          "height": 215
        }
      },
      "source": [
        "data_taxi.head()"
      ],
      "execution_count": 0,
      "outputs": [
        {
          "output_type": "execute_result",
          "data": {
            "text/html": [
              "<div>\n",
              "<style scoped>\n",
              "    .dataframe tbody tr th:only-of-type {\n",
              "        vertical-align: middle;\n",
              "    }\n",
              "\n",
              "    .dataframe tbody tr th {\n",
              "        vertical-align: top;\n",
              "    }\n",
              "\n",
              "    .dataframe thead th {\n",
              "        text-align: right;\n",
              "    }\n",
              "</style>\n",
              "<table border=\"1\" class=\"dataframe\">\n",
              "  <thead>\n",
              "    <tr style=\"text-align: right;\">\n",
              "      <th></th>\n",
              "      <th>VendorID</th>\n",
              "      <th>tpep_pickup_datetime</th>\n",
              "      <th>tpep_dropoff_datetime</th>\n",
              "      <th>passenger_count</th>\n",
              "      <th>trip_distance</th>\n",
              "      <th>pickup_longitude</th>\n",
              "      <th>pickup_latitude</th>\n",
              "      <th>RatecodeID</th>\n",
              "      <th>store_and_fwd_flag</th>\n",
              "      <th>dropoff_longitude</th>\n",
              "      <th>dropoff_latitude</th>\n",
              "      <th>payment_type</th>\n",
              "      <th>fare_amount</th>\n",
              "      <th>extra</th>\n",
              "      <th>mta_tax</th>\n",
              "      <th>tip_amount</th>\n",
              "      <th>tolls_amount</th>\n",
              "      <th>improvement_surcharge</th>\n",
              "      <th>total_amount</th>\n",
              "    </tr>\n",
              "  </thead>\n",
              "  <tbody>\n",
              "    <tr>\n",
              "      <th>0</th>\n",
              "      <td>1</td>\n",
              "      <td>2016-05-01 00:00:00</td>\n",
              "      <td>2016-05-01 00:17:31</td>\n",
              "      <td>1</td>\n",
              "      <td>3.60</td>\n",
              "      <td>-73.985901</td>\n",
              "      <td>40.768040</td>\n",
              "      <td>1</td>\n",
              "      <td>N</td>\n",
              "      <td>-73.983986</td>\n",
              "      <td>40.730099</td>\n",
              "      <td>1</td>\n",
              "      <td>15.0</td>\n",
              "      <td>0.5</td>\n",
              "      <td>0.5</td>\n",
              "      <td>1.50</td>\n",
              "      <td>0.0</td>\n",
              "      <td>0.3</td>\n",
              "      <td>17.80</td>\n",
              "    </tr>\n",
              "    <tr>\n",
              "      <th>1</th>\n",
              "      <td>2</td>\n",
              "      <td>2016-05-01 00:00:00</td>\n",
              "      <td>2016-05-01 00:07:31</td>\n",
              "      <td>1</td>\n",
              "      <td>1.68</td>\n",
              "      <td>-73.991577</td>\n",
              "      <td>40.744751</td>\n",
              "      <td>1</td>\n",
              "      <td>N</td>\n",
              "      <td>-73.975700</td>\n",
              "      <td>40.765469</td>\n",
              "      <td>1</td>\n",
              "      <td>7.5</td>\n",
              "      <td>0.5</td>\n",
              "      <td>0.5</td>\n",
              "      <td>0.88</td>\n",
              "      <td>0.0</td>\n",
              "      <td>0.3</td>\n",
              "      <td>9.68</td>\n",
              "    </tr>\n",
              "    <tr>\n",
              "      <th>2</th>\n",
              "      <td>2</td>\n",
              "      <td>2016-05-01 00:00:00</td>\n",
              "      <td>2016-05-01 00:07:01</td>\n",
              "      <td>6</td>\n",
              "      <td>1.09</td>\n",
              "      <td>-73.993073</td>\n",
              "      <td>40.741573</td>\n",
              "      <td>1</td>\n",
              "      <td>N</td>\n",
              "      <td>-73.980995</td>\n",
              "      <td>40.744633</td>\n",
              "      <td>1</td>\n",
              "      <td>6.5</td>\n",
              "      <td>0.5</td>\n",
              "      <td>0.5</td>\n",
              "      <td>1.56</td>\n",
              "      <td>0.0</td>\n",
              "      <td>0.3</td>\n",
              "      <td>9.36</td>\n",
              "    </tr>\n",
              "    <tr>\n",
              "      <th>3</th>\n",
              "      <td>2</td>\n",
              "      <td>2016-05-01 00:00:00</td>\n",
              "      <td>2016-05-01 00:19:47</td>\n",
              "      <td>1</td>\n",
              "      <td>4.21</td>\n",
              "      <td>-73.991943</td>\n",
              "      <td>40.684601</td>\n",
              "      <td>1</td>\n",
              "      <td>N</td>\n",
              "      <td>-74.002258</td>\n",
              "      <td>40.733002</td>\n",
              "      <td>1</td>\n",
              "      <td>17.0</td>\n",
              "      <td>0.5</td>\n",
              "      <td>0.5</td>\n",
              "      <td>3.66</td>\n",
              "      <td>0.0</td>\n",
              "      <td>0.3</td>\n",
              "      <td>21.96</td>\n",
              "    </tr>\n",
              "    <tr>\n",
              "      <th>4</th>\n",
              "      <td>2</td>\n",
              "      <td>2016-05-01 00:00:00</td>\n",
              "      <td>2016-05-01 00:06:39</td>\n",
              "      <td>1</td>\n",
              "      <td>0.56</td>\n",
              "      <td>-74.005280</td>\n",
              "      <td>40.740192</td>\n",
              "      <td>1</td>\n",
              "      <td>N</td>\n",
              "      <td>-73.997498</td>\n",
              "      <td>40.737564</td>\n",
              "      <td>1</td>\n",
              "      <td>6.0</td>\n",
              "      <td>0.5</td>\n",
              "      <td>0.5</td>\n",
              "      <td>1.46</td>\n",
              "      <td>0.0</td>\n",
              "      <td>0.3</td>\n",
              "      <td>8.76</td>\n",
              "    </tr>\n",
              "  </tbody>\n",
              "</table>\n",
              "</div>"
            ],
            "text/plain": [
              "   VendorID tpep_pickup_datetime  ... improvement_surcharge  total_amount\n",
              "0         1  2016-05-01 00:00:00  ...                   0.3         17.80\n",
              "1         2  2016-05-01 00:00:00  ...                   0.3          9.68\n",
              "2         2  2016-05-01 00:00:00  ...                   0.3          9.36\n",
              "3         2  2016-05-01 00:00:00  ...                   0.3         21.96\n",
              "4         2  2016-05-01 00:00:00  ...                   0.3          8.76\n",
              "\n",
              "[5 rows x 19 columns]"
            ]
          },
          "metadata": {
            "tags": []
          },
          "execution_count": 4
        }
      ]
    },
    {
      "cell_type": "markdown",
      "metadata": {
        "id": "J34q_lGknAJk",
        "colab_type": "text"
      },
      "source": [
        "### 2. Проведите фильтрацию: удалите поездки с\n",
        "\n",
        "* нулевой длительностью\n",
        "* нулевым количеством пассажиров\n",
        "* нулевым расстоянием поездки по счётчику\n",
        "* координатами начала, не попадающими в прямоугольник Нью-Йорка\n"
      ]
    },
    {
      "cell_type": "code",
      "metadata": {
        "id": "hiDO27splwCl",
        "colab_type": "code",
        "outputId": "1f976dd6-5dc7-4361-cff4-b06266b8ba17",
        "colab": {
          "base_uri": "https://localhost:8080/",
          "height": 454
        }
      },
      "source": [
        "# информация по данным\n",
        "data_taxi.info()"
      ],
      "execution_count": 0,
      "outputs": [
        {
          "output_type": "stream",
          "text": [
            "<class 'pandas.core.frame.DataFrame'>\n",
            "RangeIndex: 11836853 entries, 0 to 11836852\n",
            "Data columns (total 19 columns):\n",
            " #   Column                 Dtype  \n",
            "---  ------                 -----  \n",
            " 0   VendorID               int64  \n",
            " 1   tpep_pickup_datetime   object \n",
            " 2   tpep_dropoff_datetime  object \n",
            " 3   passenger_count        int64  \n",
            " 4   trip_distance          float64\n",
            " 5   pickup_longitude       float64\n",
            " 6   pickup_latitude        float64\n",
            " 7   RatecodeID             int64  \n",
            " 8   store_and_fwd_flag     object \n",
            " 9   dropoff_longitude      float64\n",
            " 10  dropoff_latitude       float64\n",
            " 11  payment_type           int64  \n",
            " 12  fare_amount            float64\n",
            " 13  extra                  float64\n",
            " 14  mta_tax                float64\n",
            " 15  tip_amount             float64\n",
            " 16  tolls_amount           float64\n",
            " 17  improvement_surcharge  float64\n",
            " 18  total_amount           float64\n",
            "dtypes: float64(12), int64(4), object(3)\n",
            "memory usage: 1.7+ GB\n"
          ],
          "name": "stdout"
        }
      ]
    },
    {
      "cell_type": "code",
      "metadata": {
        "id": "QCQ7AL_0mECR",
        "colab_type": "code",
        "outputId": "34c92fb8-58c6-4828-848f-4e0b079cf878",
        "colab": {
          "base_uri": "https://localhost:8080/",
          "height": 34
        }
      },
      "source": [
        "# размер дата сета\n",
        "data_taxi.shape"
      ],
      "execution_count": 0,
      "outputs": [
        {
          "output_type": "execute_result",
          "data": {
            "text/plain": [
              "(11836853, 19)"
            ]
          },
          "metadata": {
            "tags": []
          },
          "execution_count": 6
        }
      ]
    },
    {
      "cell_type": "code",
      "metadata": {
        "id": "qizcCa69pL-9",
        "colab_type": "code",
        "colab": {}
      },
      "source": [
        "# перевожу объекты в другой тип для двух колонок\n",
        "data_taxi['tpep_pickup_datetime'] = pd.to_datetime(data_taxi['tpep_pickup_datetime'])"
      ],
      "execution_count": 0,
      "outputs": []
    },
    {
      "cell_type": "code",
      "metadata": {
        "id": "p4LUEVNhpebc",
        "colab_type": "code",
        "colab": {}
      },
      "source": [
        "data_taxi['tpep_dropoff_datetime'] = pd.to_datetime(data_taxi['tpep_dropoff_datetime'])"
      ],
      "execution_count": 0,
      "outputs": []
    },
    {
      "cell_type": "code",
      "metadata": {
        "id": "y5_UHbokod68",
        "colab_type": "code",
        "colab": {}
      },
      "source": [
        "# вычеслю продолжительность поездки и помещу данные в массив\n",
        "duratin_trip = data_taxi['tpep_dropoff_datetime'] - data_taxi['tpep_pickup_datetime']"
      ],
      "execution_count": 0,
      "outputs": []
    },
    {
      "cell_type": "code",
      "metadata": {
        "id": "Ztf_eEhLmJsh",
        "colab_type": "code",
        "colab": {}
      },
      "source": [
        "# вставляю колонку с продолжительностью поездки\n",
        "data_taxi.insert(3, 'duratin_trip', duratin_trip)"
      ],
      "execution_count": 0,
      "outputs": []
    },
    {
      "cell_type": "code",
      "metadata": {
        "id": "z6-bU5J6rlhN",
        "colab_type": "code",
        "outputId": "ed80c0cf-6c05-47be-d403-8862851ef3b5",
        "colab": {
          "base_uri": "https://localhost:8080/",
          "height": 215
        }
      },
      "source": [
        "data_taxi.head()"
      ],
      "execution_count": 0,
      "outputs": [
        {
          "output_type": "execute_result",
          "data": {
            "text/html": [
              "<div>\n",
              "<style scoped>\n",
              "    .dataframe tbody tr th:only-of-type {\n",
              "        vertical-align: middle;\n",
              "    }\n",
              "\n",
              "    .dataframe tbody tr th {\n",
              "        vertical-align: top;\n",
              "    }\n",
              "\n",
              "    .dataframe thead th {\n",
              "        text-align: right;\n",
              "    }\n",
              "</style>\n",
              "<table border=\"1\" class=\"dataframe\">\n",
              "  <thead>\n",
              "    <tr style=\"text-align: right;\">\n",
              "      <th></th>\n",
              "      <th>VendorID</th>\n",
              "      <th>tpep_pickup_datetime</th>\n",
              "      <th>tpep_dropoff_datetime</th>\n",
              "      <th>duratin_trip</th>\n",
              "      <th>passenger_count</th>\n",
              "      <th>trip_distance</th>\n",
              "      <th>pickup_longitude</th>\n",
              "      <th>pickup_latitude</th>\n",
              "      <th>RatecodeID</th>\n",
              "      <th>store_and_fwd_flag</th>\n",
              "      <th>dropoff_longitude</th>\n",
              "      <th>dropoff_latitude</th>\n",
              "      <th>payment_type</th>\n",
              "      <th>fare_amount</th>\n",
              "      <th>extra</th>\n",
              "      <th>mta_tax</th>\n",
              "      <th>tip_amount</th>\n",
              "      <th>tolls_amount</th>\n",
              "      <th>improvement_surcharge</th>\n",
              "      <th>total_amount</th>\n",
              "    </tr>\n",
              "  </thead>\n",
              "  <tbody>\n",
              "    <tr>\n",
              "      <th>0</th>\n",
              "      <td>1</td>\n",
              "      <td>2016-05-01</td>\n",
              "      <td>2016-05-01 00:17:31</td>\n",
              "      <td>00:17:31</td>\n",
              "      <td>1</td>\n",
              "      <td>3.60</td>\n",
              "      <td>-73.985901</td>\n",
              "      <td>40.768040</td>\n",
              "      <td>1</td>\n",
              "      <td>N</td>\n",
              "      <td>-73.983986</td>\n",
              "      <td>40.730099</td>\n",
              "      <td>1</td>\n",
              "      <td>15.0</td>\n",
              "      <td>0.5</td>\n",
              "      <td>0.5</td>\n",
              "      <td>1.50</td>\n",
              "      <td>0.0</td>\n",
              "      <td>0.3</td>\n",
              "      <td>17.80</td>\n",
              "    </tr>\n",
              "    <tr>\n",
              "      <th>1</th>\n",
              "      <td>2</td>\n",
              "      <td>2016-05-01</td>\n",
              "      <td>2016-05-01 00:07:31</td>\n",
              "      <td>00:07:31</td>\n",
              "      <td>1</td>\n",
              "      <td>1.68</td>\n",
              "      <td>-73.991577</td>\n",
              "      <td>40.744751</td>\n",
              "      <td>1</td>\n",
              "      <td>N</td>\n",
              "      <td>-73.975700</td>\n",
              "      <td>40.765469</td>\n",
              "      <td>1</td>\n",
              "      <td>7.5</td>\n",
              "      <td>0.5</td>\n",
              "      <td>0.5</td>\n",
              "      <td>0.88</td>\n",
              "      <td>0.0</td>\n",
              "      <td>0.3</td>\n",
              "      <td>9.68</td>\n",
              "    </tr>\n",
              "    <tr>\n",
              "      <th>2</th>\n",
              "      <td>2</td>\n",
              "      <td>2016-05-01</td>\n",
              "      <td>2016-05-01 00:07:01</td>\n",
              "      <td>00:07:01</td>\n",
              "      <td>6</td>\n",
              "      <td>1.09</td>\n",
              "      <td>-73.993073</td>\n",
              "      <td>40.741573</td>\n",
              "      <td>1</td>\n",
              "      <td>N</td>\n",
              "      <td>-73.980995</td>\n",
              "      <td>40.744633</td>\n",
              "      <td>1</td>\n",
              "      <td>6.5</td>\n",
              "      <td>0.5</td>\n",
              "      <td>0.5</td>\n",
              "      <td>1.56</td>\n",
              "      <td>0.0</td>\n",
              "      <td>0.3</td>\n",
              "      <td>9.36</td>\n",
              "    </tr>\n",
              "    <tr>\n",
              "      <th>3</th>\n",
              "      <td>2</td>\n",
              "      <td>2016-05-01</td>\n",
              "      <td>2016-05-01 00:19:47</td>\n",
              "      <td>00:19:47</td>\n",
              "      <td>1</td>\n",
              "      <td>4.21</td>\n",
              "      <td>-73.991943</td>\n",
              "      <td>40.684601</td>\n",
              "      <td>1</td>\n",
              "      <td>N</td>\n",
              "      <td>-74.002258</td>\n",
              "      <td>40.733002</td>\n",
              "      <td>1</td>\n",
              "      <td>17.0</td>\n",
              "      <td>0.5</td>\n",
              "      <td>0.5</td>\n",
              "      <td>3.66</td>\n",
              "      <td>0.0</td>\n",
              "      <td>0.3</td>\n",
              "      <td>21.96</td>\n",
              "    </tr>\n",
              "    <tr>\n",
              "      <th>4</th>\n",
              "      <td>2</td>\n",
              "      <td>2016-05-01</td>\n",
              "      <td>2016-05-01 00:06:39</td>\n",
              "      <td>00:06:39</td>\n",
              "      <td>1</td>\n",
              "      <td>0.56</td>\n",
              "      <td>-74.005280</td>\n",
              "      <td>40.740192</td>\n",
              "      <td>1</td>\n",
              "      <td>N</td>\n",
              "      <td>-73.997498</td>\n",
              "      <td>40.737564</td>\n",
              "      <td>1</td>\n",
              "      <td>6.0</td>\n",
              "      <td>0.5</td>\n",
              "      <td>0.5</td>\n",
              "      <td>1.46</td>\n",
              "      <td>0.0</td>\n",
              "      <td>0.3</td>\n",
              "      <td>8.76</td>\n",
              "    </tr>\n",
              "  </tbody>\n",
              "</table>\n",
              "</div>"
            ],
            "text/plain": [
              "   VendorID tpep_pickup_datetime  ... improvement_surcharge total_amount\n",
              "0         1           2016-05-01  ...                   0.3        17.80\n",
              "1         2           2016-05-01  ...                   0.3         9.68\n",
              "2         2           2016-05-01  ...                   0.3         9.36\n",
              "3         2           2016-05-01  ...                   0.3        21.96\n",
              "4         2           2016-05-01  ...                   0.3         8.76\n",
              "\n",
              "[5 rows x 20 columns]"
            ]
          },
          "metadata": {
            "tags": []
          },
          "execution_count": 11
        }
      ]
    },
    {
      "cell_type": "code",
      "metadata": {
        "id": "-01JeCIss_e7",
        "colab_type": "code",
        "colab": {}
      },
      "source": [
        "data_taxi['duratin_trip'] = data_taxi['duratin_trip'].dt.components['days'] * 86400 + data_taxi['duratin_trip'].dt.components['hours'] * 3600 + \\\n",
        "data_taxi['duratin_trip'].dt.components['minutes'] * 60 + data_taxi['duratin_trip'].dt.components['seconds']"
      ],
      "execution_count": 0,
      "outputs": []
    },
    {
      "cell_type": "code",
      "metadata": {
        "id": "abdEc3RIuI0-",
        "colab_type": "code",
        "outputId": "ffbc9f22-43ce-4fba-b9a1-59ab3a90ae04",
        "colab": {
          "base_uri": "https://localhost:8080/",
          "height": 34
        }
      },
      "source": [
        "# удаляю с нулевой длительностью\n",
        "data_taxi = data_taxi[data_taxi['duratin_trip']!=0]\n",
        "data_taxi.shape"
      ],
      "execution_count": 0,
      "outputs": [
        {
          "output_type": "execute_result",
          "data": {
            "text/plain": [
              "(11824585, 20)"
            ]
          },
          "metadata": {
            "tags": []
          },
          "execution_count": 10
        }
      ]
    },
    {
      "cell_type": "code",
      "metadata": {
        "id": "8z7P5EowO8Xj",
        "colab_type": "code",
        "outputId": "a866da97-88fc-48f0-a8e8-de9fbea67767",
        "colab": {
          "base_uri": "https://localhost:8080/",
          "height": 34
        }
      },
      "source": [
        "# удаляю с нулевым количеством пассажиров\n",
        "data_taxi = data_taxi[data_taxi['passenger_count']!=0]\n",
        "data_taxi.shape"
      ],
      "execution_count": 0,
      "outputs": [
        {
          "output_type": "execute_result",
          "data": {
            "text/plain": [
              "(11824063, 20)"
            ]
          },
          "metadata": {
            "tags": []
          },
          "execution_count": 11
        }
      ]
    },
    {
      "cell_type": "code",
      "metadata": {
        "id": "fkj06qNqQAc-",
        "colab_type": "code",
        "outputId": "0df8f59c-4935-4be6-f078-696190fe6daf",
        "colab": {
          "base_uri": "https://localhost:8080/",
          "height": 34
        }
      },
      "source": [
        "# удаляю с нулевым расстоянием поездки по счётчику\n",
        "data_taxi = data_taxi[data_taxi['trip_distance']!=0]\n",
        "data_taxi.shape"
      ],
      "execution_count": 0,
      "outputs": [
        {
          "output_type": "execute_result",
          "data": {
            "text/plain": [
              "(11763422, 20)"
            ]
          },
          "metadata": {
            "tags": []
          },
          "execution_count": 12
        }
      ]
    },
    {
      "cell_type": "code",
      "metadata": {
        "id": "BUHT22rVQw96",
        "colab_type": "code",
        "colab": {}
      },
      "source": [
        "# координатами начала, не попадающими в прямоугольник Нью-Йорка\n",
        "data_taxi = data_taxi[(data_taxi['pickup_longitude'] <= ny_longitude_east) & (data_taxi['pickup_longitude'] >= ny_longitude_west) &\\\n",
        " (data_taxi['pickup_latitude']>=ny_latitude_south) & (data_taxi['pickup_latitude']<=ny_latitude_north)]"
      ],
      "execution_count": 0,
      "outputs": []
    },
    {
      "cell_type": "code",
      "metadata": {
        "id": "pGvSAkkeicCV",
        "colab_type": "code",
        "outputId": "2419cc01-f384-4332-c034-8d8b0fc748b6",
        "colab": {
          "base_uri": "https://localhost:8080/",
          "height": 34
        }
      },
      "source": [
        "data_taxi.shape"
      ],
      "execution_count": 0,
      "outputs": [
        {
          "output_type": "execute_result",
          "data": {
            "text/plain": [
              "(11626521, 20)"
            ]
          },
          "metadata": {
            "tags": []
          },
          "execution_count": 15
        }
      ]
    },
    {
      "cell_type": "code",
      "metadata": {
        "id": "ZJR1-9hyq3sa",
        "colab_type": "code",
        "colab": {}
      },
      "source": [
        "# сохраню подчищенный вариант для будущего использования\n",
        "data_taxi.to_csv('/content/gdrive/My Drive/DATA/Stepik/yellow_tripdata_2016-05_my.csv', index=False)"
      ],
      "execution_count": 0,
      "outputs": []
    },
    {
      "cell_type": "markdown",
      "metadata": {
        "id": "I8ma4fBEovHq",
        "colab_type": "text"
      },
      "source": [
        "### 3. Агрегируйте данные за май 2016 года по часам и областям (можно использовать функцию stats.binned_statistic_2d, с которой вы сталкивались в заданиях четвёртого курса). Не забудьте проверить, что идентификаторы, которые вы присваиваете ячейкам, соответствуют приложенному выше файлу."
      ]
    },
    {
      "cell_type": "code",
      "metadata": {
        "id": "BmqkJ_6zYmR_",
        "colab_type": "code",
        "colab": {}
      },
      "source": [
        "region = pd.read_csv('/content/gdrive/My Drive/DATA/Stepik/regions.csv', delimiter=';')"
      ],
      "execution_count": 0,
      "outputs": []
    },
    {
      "cell_type": "code",
      "metadata": {
        "id": "HM6jVLHf-pVP",
        "colab_type": "code",
        "outputId": "b822f21c-5802-4a7d-cf5b-3558e4961a2e",
        "colab": {
          "base_uri": "https://localhost:8080/",
          "height": 34
        }
      },
      "source": [
        "region.shape"
      ],
      "execution_count": 0,
      "outputs": [
        {
          "output_type": "execute_result",
          "data": {
            "text/plain": [
              "(2500, 5)"
            ]
          },
          "metadata": {
            "tags": []
          },
          "execution_count": 20
        }
      ]
    },
    {
      "cell_type": "code",
      "metadata": {
        "id": "6U15vmwc-1Y8",
        "colab_type": "code",
        "outputId": "273573bc-138f-4f76-c709-d6f6c5abc835",
        "colab": {
          "base_uri": "https://localhost:8080/",
          "height": 195
        }
      },
      "source": [
        "region.head()"
      ],
      "execution_count": 0,
      "outputs": [
        {
          "output_type": "execute_result",
          "data": {
            "text/html": [
              "<div>\n",
              "<style scoped>\n",
              "    .dataframe tbody tr th:only-of-type {\n",
              "        vertical-align: middle;\n",
              "    }\n",
              "\n",
              "    .dataframe tbody tr th {\n",
              "        vertical-align: top;\n",
              "    }\n",
              "\n",
              "    .dataframe thead th {\n",
              "        text-align: right;\n",
              "    }\n",
              "</style>\n",
              "<table border=\"1\" class=\"dataframe\">\n",
              "  <thead>\n",
              "    <tr style=\"text-align: right;\">\n",
              "      <th></th>\n",
              "      <th>region</th>\n",
              "      <th>west</th>\n",
              "      <th>east</th>\n",
              "      <th>south</th>\n",
              "      <th>north</th>\n",
              "    </tr>\n",
              "  </thead>\n",
              "  <tbody>\n",
              "    <tr>\n",
              "      <th>0</th>\n",
              "      <td>1</td>\n",
              "      <td>-74.25559</td>\n",
              "      <td>-74.244478</td>\n",
              "      <td>40.496120</td>\n",
              "      <td>40.504508</td>\n",
              "    </tr>\n",
              "    <tr>\n",
              "      <th>1</th>\n",
              "      <td>2</td>\n",
              "      <td>-74.25559</td>\n",
              "      <td>-74.244478</td>\n",
              "      <td>40.504508</td>\n",
              "      <td>40.512896</td>\n",
              "    </tr>\n",
              "    <tr>\n",
              "      <th>2</th>\n",
              "      <td>3</td>\n",
              "      <td>-74.25559</td>\n",
              "      <td>-74.244478</td>\n",
              "      <td>40.512896</td>\n",
              "      <td>40.521285</td>\n",
              "    </tr>\n",
              "    <tr>\n",
              "      <th>3</th>\n",
              "      <td>4</td>\n",
              "      <td>-74.25559</td>\n",
              "      <td>-74.244478</td>\n",
              "      <td>40.521285</td>\n",
              "      <td>40.529673</td>\n",
              "    </tr>\n",
              "    <tr>\n",
              "      <th>4</th>\n",
              "      <td>5</td>\n",
              "      <td>-74.25559</td>\n",
              "      <td>-74.244478</td>\n",
              "      <td>40.529673</td>\n",
              "      <td>40.538061</td>\n",
              "    </tr>\n",
              "  </tbody>\n",
              "</table>\n",
              "</div>"
            ],
            "text/plain": [
              "   region      west       east      south      north\n",
              "0       1 -74.25559 -74.244478  40.496120  40.504508\n",
              "1       2 -74.25559 -74.244478  40.504508  40.512896\n",
              "2       3 -74.25559 -74.244478  40.512896  40.521285\n",
              "3       4 -74.25559 -74.244478  40.521285  40.529673\n",
              "4       5 -74.25559 -74.244478  40.529673  40.538061"
            ]
          },
          "metadata": {
            "tags": []
          },
          "execution_count": 22
        }
      ]
    },
    {
      "cell_type": "code",
      "metadata": {
        "id": "AavP6SDXzxhS",
        "colab_type": "code",
        "colab": {}
      },
      "source": [
        "data_taxi = pd.read_csv('/content/gdrive/My Drive/DATA/Stepik/yellow_tripdata_2016-05_my.csv')"
      ],
      "execution_count": 0,
      "outputs": []
    },
    {
      "cell_type": "code",
      "metadata": {
        "id": "KPFNd_sLz6zR",
        "colab_type": "code",
        "outputId": "c90f0369-7abc-4057-a596-80d0ba5beb8e",
        "colab": {
          "base_uri": "https://localhost:8080/",
          "height": 215
        }
      },
      "source": [
        "data_taxi.head()"
      ],
      "execution_count": 0,
      "outputs": [
        {
          "output_type": "execute_result",
          "data": {
            "text/html": [
              "<div>\n",
              "<style scoped>\n",
              "    .dataframe tbody tr th:only-of-type {\n",
              "        vertical-align: middle;\n",
              "    }\n",
              "\n",
              "    .dataframe tbody tr th {\n",
              "        vertical-align: top;\n",
              "    }\n",
              "\n",
              "    .dataframe thead th {\n",
              "        text-align: right;\n",
              "    }\n",
              "</style>\n",
              "<table border=\"1\" class=\"dataframe\">\n",
              "  <thead>\n",
              "    <tr style=\"text-align: right;\">\n",
              "      <th></th>\n",
              "      <th>VendorID</th>\n",
              "      <th>tpep_pickup_datetime</th>\n",
              "      <th>tpep_dropoff_datetime</th>\n",
              "      <th>duratin_trip</th>\n",
              "      <th>passenger_count</th>\n",
              "      <th>trip_distance</th>\n",
              "      <th>pickup_longitude</th>\n",
              "      <th>pickup_latitude</th>\n",
              "      <th>RatecodeID</th>\n",
              "      <th>store_and_fwd_flag</th>\n",
              "      <th>dropoff_longitude</th>\n",
              "      <th>dropoff_latitude</th>\n",
              "      <th>payment_type</th>\n",
              "      <th>fare_amount</th>\n",
              "      <th>extra</th>\n",
              "      <th>mta_tax</th>\n",
              "      <th>tip_amount</th>\n",
              "      <th>tolls_amount</th>\n",
              "      <th>improvement_surcharge</th>\n",
              "      <th>total_amount</th>\n",
              "    </tr>\n",
              "  </thead>\n",
              "  <tbody>\n",
              "    <tr>\n",
              "      <th>0</th>\n",
              "      <td>1</td>\n",
              "      <td>2016-05-01 00:00:00</td>\n",
              "      <td>2016-05-01 00:17:31</td>\n",
              "      <td>1051</td>\n",
              "      <td>1</td>\n",
              "      <td>3.60</td>\n",
              "      <td>-73.985901</td>\n",
              "      <td>40.768040</td>\n",
              "      <td>1</td>\n",
              "      <td>N</td>\n",
              "      <td>-73.983986</td>\n",
              "      <td>40.730099</td>\n",
              "      <td>1</td>\n",
              "      <td>15.0</td>\n",
              "      <td>0.5</td>\n",
              "      <td>0.5</td>\n",
              "      <td>1.50</td>\n",
              "      <td>0.0</td>\n",
              "      <td>0.3</td>\n",
              "      <td>17.80</td>\n",
              "    </tr>\n",
              "    <tr>\n",
              "      <th>1</th>\n",
              "      <td>2</td>\n",
              "      <td>2016-05-01 00:00:00</td>\n",
              "      <td>2016-05-01 00:07:31</td>\n",
              "      <td>451</td>\n",
              "      <td>1</td>\n",
              "      <td>1.68</td>\n",
              "      <td>-73.991577</td>\n",
              "      <td>40.744751</td>\n",
              "      <td>1</td>\n",
              "      <td>N</td>\n",
              "      <td>-73.975700</td>\n",
              "      <td>40.765469</td>\n",
              "      <td>1</td>\n",
              "      <td>7.5</td>\n",
              "      <td>0.5</td>\n",
              "      <td>0.5</td>\n",
              "      <td>0.88</td>\n",
              "      <td>0.0</td>\n",
              "      <td>0.3</td>\n",
              "      <td>9.68</td>\n",
              "    </tr>\n",
              "    <tr>\n",
              "      <th>2</th>\n",
              "      <td>2</td>\n",
              "      <td>2016-05-01 00:00:00</td>\n",
              "      <td>2016-05-01 00:07:01</td>\n",
              "      <td>421</td>\n",
              "      <td>6</td>\n",
              "      <td>1.09</td>\n",
              "      <td>-73.993073</td>\n",
              "      <td>40.741573</td>\n",
              "      <td>1</td>\n",
              "      <td>N</td>\n",
              "      <td>-73.980995</td>\n",
              "      <td>40.744633</td>\n",
              "      <td>1</td>\n",
              "      <td>6.5</td>\n",
              "      <td>0.5</td>\n",
              "      <td>0.5</td>\n",
              "      <td>1.56</td>\n",
              "      <td>0.0</td>\n",
              "      <td>0.3</td>\n",
              "      <td>9.36</td>\n",
              "    </tr>\n",
              "    <tr>\n",
              "      <th>3</th>\n",
              "      <td>2</td>\n",
              "      <td>2016-05-01 00:00:00</td>\n",
              "      <td>2016-05-01 00:19:47</td>\n",
              "      <td>1187</td>\n",
              "      <td>1</td>\n",
              "      <td>4.21</td>\n",
              "      <td>-73.991943</td>\n",
              "      <td>40.684601</td>\n",
              "      <td>1</td>\n",
              "      <td>N</td>\n",
              "      <td>-74.002258</td>\n",
              "      <td>40.733002</td>\n",
              "      <td>1</td>\n",
              "      <td>17.0</td>\n",
              "      <td>0.5</td>\n",
              "      <td>0.5</td>\n",
              "      <td>3.66</td>\n",
              "      <td>0.0</td>\n",
              "      <td>0.3</td>\n",
              "      <td>21.96</td>\n",
              "    </tr>\n",
              "    <tr>\n",
              "      <th>4</th>\n",
              "      <td>2</td>\n",
              "      <td>2016-05-01 00:00:00</td>\n",
              "      <td>2016-05-01 00:06:39</td>\n",
              "      <td>399</td>\n",
              "      <td>1</td>\n",
              "      <td>0.56</td>\n",
              "      <td>-74.005280</td>\n",
              "      <td>40.740192</td>\n",
              "      <td>1</td>\n",
              "      <td>N</td>\n",
              "      <td>-73.997498</td>\n",
              "      <td>40.737564</td>\n",
              "      <td>1</td>\n",
              "      <td>6.0</td>\n",
              "      <td>0.5</td>\n",
              "      <td>0.5</td>\n",
              "      <td>1.46</td>\n",
              "      <td>0.0</td>\n",
              "      <td>0.3</td>\n",
              "      <td>8.76</td>\n",
              "    </tr>\n",
              "  </tbody>\n",
              "</table>\n",
              "</div>"
            ],
            "text/plain": [
              "   VendorID tpep_pickup_datetime  ... improvement_surcharge  total_amount\n",
              "0         1  2016-05-01 00:00:00  ...                   0.3         17.80\n",
              "1         2  2016-05-01 00:00:00  ...                   0.3          9.68\n",
              "2         2  2016-05-01 00:00:00  ...                   0.3          9.36\n",
              "3         2  2016-05-01 00:00:00  ...                   0.3         21.96\n",
              "4         2  2016-05-01 00:00:00  ...                   0.3          8.76\n",
              "\n",
              "[5 rows x 20 columns]"
            ]
          },
          "metadata": {
            "tags": []
          },
          "execution_count": 5
        }
      ]
    },
    {
      "cell_type": "code",
      "metadata": {
        "id": "SAgmQGI3ec1O",
        "colab_type": "code",
        "colab": {}
      },
      "source": [
        "# введем колонку часы\n",
        "hour_trip = data_taxi['tpep_pickup_datetime'].dt.hour"
      ],
      "execution_count": 0,
      "outputs": []
    },
    {
      "cell_type": "code",
      "metadata": {
        "id": "Y03Cayf-hV7q",
        "colab_type": "code",
        "colab": {}
      },
      "source": [
        "# вставляю колонку с часом поездки\n",
        "data_taxi.insert(3, 'hour', hour_trip)"
      ],
      "execution_count": 0,
      "outputs": []
    },
    {
      "cell_type": "code",
      "metadata": {
        "id": "xo0PRhA3O697",
        "colab_type": "code",
        "colab": {}
      },
      "source": [
        "# функции для перевода координат в условиях 50 на 50\n",
        "\n",
        "def long_ref(val):\n",
        "  return np.floor((val - ny_longitude_west)*50/(ny_longitude_east-ny_longitude_west))\n",
        "\n",
        "def lat_ref(val):\n",
        "  return np.floor((val - ny_latitude_south)*50/(ny_latitude_north-ny_latitude_south))\n",
        "\n",
        "def find_reg(long, lat):\n",
        "  return ((long_ref(long))*50 + lat_ref(lat))"
      ],
      "execution_count": 0,
      "outputs": []
    },
    {
      "cell_type": "code",
      "metadata": {
        "id": "rkfXOekYSLHx",
        "colab_type": "code",
        "outputId": "2b04989e-dcc6-464e-a0d3-d6fab06be603",
        "colab": {
          "base_uri": "https://localhost:8080/",
          "height": 34
        }
      },
      "source": [
        "find_reg(data_taxi.iloc[0].pickup_longitude, data_taxi.iloc[0].pickup_latitude)"
      ],
      "execution_count": 0,
      "outputs": [
        {
          "output_type": "execute_result",
          "data": {
            "text/plain": [
              "1232.0"
            ]
          },
          "metadata": {
            "tags": []
          },
          "execution_count": 12
        }
      ]
    },
    {
      "cell_type": "code",
      "metadata": {
        "id": "xPPoBBgK7mmo",
        "colab_type": "code",
        "outputId": "7d7a3220-4f84-4bb6-a87b-f414310ec9ce",
        "colab": {
          "base_uri": "https://localhost:8080/",
          "height": 215
        }
      },
      "source": [
        "data_taxi.head()"
      ],
      "execution_count": 0,
      "outputs": [
        {
          "output_type": "execute_result",
          "data": {
            "text/html": [
              "<div>\n",
              "<style scoped>\n",
              "    .dataframe tbody tr th:only-of-type {\n",
              "        vertical-align: middle;\n",
              "    }\n",
              "\n",
              "    .dataframe tbody tr th {\n",
              "        vertical-align: top;\n",
              "    }\n",
              "\n",
              "    .dataframe thead th {\n",
              "        text-align: right;\n",
              "    }\n",
              "</style>\n",
              "<table border=\"1\" class=\"dataframe\">\n",
              "  <thead>\n",
              "    <tr style=\"text-align: right;\">\n",
              "      <th></th>\n",
              "      <th>VendorID</th>\n",
              "      <th>tpep_pickup_datetime</th>\n",
              "      <th>tpep_dropoff_datetime</th>\n",
              "      <th>hour</th>\n",
              "      <th>duratin_trip</th>\n",
              "      <th>passenger_count</th>\n",
              "      <th>trip_distance</th>\n",
              "      <th>pickup_longitude</th>\n",
              "      <th>pickup_latitude</th>\n",
              "      <th>RatecodeID</th>\n",
              "      <th>store_and_fwd_flag</th>\n",
              "      <th>dropoff_longitude</th>\n",
              "      <th>dropoff_latitude</th>\n",
              "      <th>payment_type</th>\n",
              "      <th>fare_amount</th>\n",
              "      <th>extra</th>\n",
              "      <th>mta_tax</th>\n",
              "      <th>tip_amount</th>\n",
              "      <th>tolls_amount</th>\n",
              "      <th>improvement_surcharge</th>\n",
              "      <th>total_amount</th>\n",
              "    </tr>\n",
              "  </thead>\n",
              "  <tbody>\n",
              "    <tr>\n",
              "      <th>0</th>\n",
              "      <td>1</td>\n",
              "      <td>2016-05-01</td>\n",
              "      <td>2016-05-01 00:17:31</td>\n",
              "      <td>0</td>\n",
              "      <td>1051</td>\n",
              "      <td>1</td>\n",
              "      <td>3.60</td>\n",
              "      <td>-73.985901</td>\n",
              "      <td>40.768040</td>\n",
              "      <td>1</td>\n",
              "      <td>N</td>\n",
              "      <td>-73.983986</td>\n",
              "      <td>40.730099</td>\n",
              "      <td>1</td>\n",
              "      <td>15.0</td>\n",
              "      <td>0.5</td>\n",
              "      <td>0.5</td>\n",
              "      <td>1.50</td>\n",
              "      <td>0.0</td>\n",
              "      <td>0.3</td>\n",
              "      <td>17.80</td>\n",
              "    </tr>\n",
              "    <tr>\n",
              "      <th>1</th>\n",
              "      <td>2</td>\n",
              "      <td>2016-05-01</td>\n",
              "      <td>2016-05-01 00:07:31</td>\n",
              "      <td>0</td>\n",
              "      <td>451</td>\n",
              "      <td>1</td>\n",
              "      <td>1.68</td>\n",
              "      <td>-73.991577</td>\n",
              "      <td>40.744751</td>\n",
              "      <td>1</td>\n",
              "      <td>N</td>\n",
              "      <td>-73.975700</td>\n",
              "      <td>40.765469</td>\n",
              "      <td>1</td>\n",
              "      <td>7.5</td>\n",
              "      <td>0.5</td>\n",
              "      <td>0.5</td>\n",
              "      <td>0.88</td>\n",
              "      <td>0.0</td>\n",
              "      <td>0.3</td>\n",
              "      <td>9.68</td>\n",
              "    </tr>\n",
              "    <tr>\n",
              "      <th>2</th>\n",
              "      <td>2</td>\n",
              "      <td>2016-05-01</td>\n",
              "      <td>2016-05-01 00:07:01</td>\n",
              "      <td>0</td>\n",
              "      <td>421</td>\n",
              "      <td>6</td>\n",
              "      <td>1.09</td>\n",
              "      <td>-73.993073</td>\n",
              "      <td>40.741573</td>\n",
              "      <td>1</td>\n",
              "      <td>N</td>\n",
              "      <td>-73.980995</td>\n",
              "      <td>40.744633</td>\n",
              "      <td>1</td>\n",
              "      <td>6.5</td>\n",
              "      <td>0.5</td>\n",
              "      <td>0.5</td>\n",
              "      <td>1.56</td>\n",
              "      <td>0.0</td>\n",
              "      <td>0.3</td>\n",
              "      <td>9.36</td>\n",
              "    </tr>\n",
              "    <tr>\n",
              "      <th>3</th>\n",
              "      <td>2</td>\n",
              "      <td>2016-05-01</td>\n",
              "      <td>2016-05-01 00:19:47</td>\n",
              "      <td>0</td>\n",
              "      <td>1187</td>\n",
              "      <td>1</td>\n",
              "      <td>4.21</td>\n",
              "      <td>-73.991943</td>\n",
              "      <td>40.684601</td>\n",
              "      <td>1</td>\n",
              "      <td>N</td>\n",
              "      <td>-74.002258</td>\n",
              "      <td>40.733002</td>\n",
              "      <td>1</td>\n",
              "      <td>17.0</td>\n",
              "      <td>0.5</td>\n",
              "      <td>0.5</td>\n",
              "      <td>3.66</td>\n",
              "      <td>0.0</td>\n",
              "      <td>0.3</td>\n",
              "      <td>21.96</td>\n",
              "    </tr>\n",
              "    <tr>\n",
              "      <th>4</th>\n",
              "      <td>2</td>\n",
              "      <td>2016-05-01</td>\n",
              "      <td>2016-05-01 00:06:39</td>\n",
              "      <td>0</td>\n",
              "      <td>399</td>\n",
              "      <td>1</td>\n",
              "      <td>0.56</td>\n",
              "      <td>-74.005280</td>\n",
              "      <td>40.740192</td>\n",
              "      <td>1</td>\n",
              "      <td>N</td>\n",
              "      <td>-73.997498</td>\n",
              "      <td>40.737564</td>\n",
              "      <td>1</td>\n",
              "      <td>6.0</td>\n",
              "      <td>0.5</td>\n",
              "      <td>0.5</td>\n",
              "      <td>1.46</td>\n",
              "      <td>0.0</td>\n",
              "      <td>0.3</td>\n",
              "      <td>8.76</td>\n",
              "    </tr>\n",
              "  </tbody>\n",
              "</table>\n",
              "</div>"
            ],
            "text/plain": [
              "   VendorID tpep_pickup_datetime  ... improvement_surcharge  total_amount\n",
              "0         1           2016-05-01  ...                   0.3         17.80\n",
              "1         2           2016-05-01  ...                   0.3          9.68\n",
              "2         2           2016-05-01  ...                   0.3          9.36\n",
              "3         2           2016-05-01  ...                   0.3         21.96\n",
              "4         2           2016-05-01  ...                   0.3          8.76\n",
              "\n",
              "[5 rows x 21 columns]"
            ]
          },
          "metadata": {
            "tags": []
          },
          "execution_count": 13
        }
      ]
    },
    {
      "cell_type": "code",
      "metadata": {
        "id": "FZA3lMLQTW1j",
        "colab_type": "code",
        "colab": {}
      },
      "source": [
        "# добавим колонки с измененными данными\n",
        "data_taxi['piсkap_longitude_idx'] = data_taxi['pickup_longitude'].apply(long_ref)\n",
        "data_taxi['piсkap_latitude_idx'] = data_taxi['pickup_latitude'].apply(lat_ref)"
      ],
      "execution_count": 0,
      "outputs": []
    },
    {
      "cell_type": "code",
      "metadata": {
        "id": "sU1sxLF4_4Di",
        "colab_type": "code",
        "colab": {}
      },
      "source": [
        "# создаем колонку с регионом старта и заполняем ее данными\n",
        "data_taxi['region'] = (data_taxi.piсkap_longitude_idx - 1)*50.0 + data_taxi.piсkap_latitude_idx"
      ],
      "execution_count": 0,
      "outputs": []
    },
    {
      "cell_type": "code",
      "metadata": {
        "id": "hdRScoN78lFg",
        "colab_type": "code",
        "colab": {}
      },
      "source": [
        "id_bin = np.arange(0, 2501)"
      ],
      "execution_count": 0,
      "outputs": []
    },
    {
      "cell_type": "code",
      "metadata": {
        "id": "_vp8fiP5Fhhg",
        "colab_type": "code",
        "colab": {}
      },
      "source": [
        "# выкенем незадействованные колонки\n",
        "\n",
        "data_taxi = data_taxi.drop(['VendorID', 'RatecodeID', 'store_and_fwd_flag', 'dropoff_longitude', 'dropoff_latitude', 'payment_type',\\\n",
        "                                    'fare_amount', 'extra', 'mta_tax', 'tip_amount', 'tolls_amount', 'improvement_surcharge', 'total_amount'], axis = 1)"
      ],
      "execution_count": 0,
      "outputs": []
    },
    {
      "cell_type": "code",
      "metadata": {
        "id": "cpA4DMMFPv81",
        "colab_type": "code",
        "colab": {}
      },
      "source": [
        "# сохраню подчищенный вариант для будущего использования и с добавленными колонками\n",
        "\n",
        "data_taxi.to_csv('/content/gdrive/My Drive/DATA/Stepik/yellow_tripdata_2016-05_my.csv', index=False)"
      ],
      "execution_count": 0,
      "outputs": []
    },
    {
      "cell_type": "code",
      "metadata": {
        "id": "QgQids4hIWVa",
        "colab_type": "code",
        "colab": {}
      },
      "source": [
        "data_taxi = pd.read_csv('/content/gdrive/My Drive/DATA/Stepik/yellow_tripdata_2016-05_my.csv')"
      ],
      "execution_count": 0,
      "outputs": []
    },
    {
      "cell_type": "code",
      "metadata": {
        "id": "54X7RCIdWnKY",
        "colab_type": "code",
        "colab": {}
      },
      "source": [
        "def time_bin_gen(date):\n",
        "    current = date.year*1e6 + date.month*1e4 + date.day*1e2 + date.hour  \n",
        "    return current"
      ],
      "execution_count": 0,
      "outputs": []
    },
    {
      "cell_type": "code",
      "metadata": {
        "id": "I0KsarBFQr0E",
        "colab_type": "code",
        "colab": {}
      },
      "source": [
        "# создаю колонку с объединенной датой и часом поездки\n",
        "data_taxi['timestamp'] = data_taxi.tpep_pickup_datetime.apply(lambda d: time_bin_gen(d))"
      ],
      "execution_count": 0,
      "outputs": []
    },
    {
      "cell_type": "code",
      "metadata": {
        "id": "wk-9Dkr1XCGe",
        "colab_type": "code",
        "colab": {
          "base_uri": "https://localhost:8080/",
          "height": 215
        },
        "outputId": "a703a93c-c779-4c6b-a89e-3328344894c2"
      },
      "source": [
        "data_taxi.head()"
      ],
      "execution_count": 77,
      "outputs": [
        {
          "output_type": "execute_result",
          "data": {
            "text/html": [
              "<div>\n",
              "<style scoped>\n",
              "    .dataframe tbody tr th:only-of-type {\n",
              "        vertical-align: middle;\n",
              "    }\n",
              "\n",
              "    .dataframe tbody tr th {\n",
              "        vertical-align: top;\n",
              "    }\n",
              "\n",
              "    .dataframe thead th {\n",
              "        text-align: right;\n",
              "    }\n",
              "</style>\n",
              "<table border=\"1\" class=\"dataframe\">\n",
              "  <thead>\n",
              "    <tr style=\"text-align: right;\">\n",
              "      <th></th>\n",
              "      <th>tpep_pickup_datetime</th>\n",
              "      <th>tpep_dropoff_datetime</th>\n",
              "      <th>hour</th>\n",
              "      <th>duratin_trip</th>\n",
              "      <th>passenger_count</th>\n",
              "      <th>trip_distance</th>\n",
              "      <th>pickup_longitude</th>\n",
              "      <th>pickup_latitude</th>\n",
              "      <th>piсkap_longitude_idx</th>\n",
              "      <th>piсkap_latitude_idx</th>\n",
              "      <th>region</th>\n",
              "      <th>timestamp</th>\n",
              "    </tr>\n",
              "  </thead>\n",
              "  <tbody>\n",
              "    <tr>\n",
              "      <th>0</th>\n",
              "      <td>2016-05-01</td>\n",
              "      <td>2016-05-01 00:17:31</td>\n",
              "      <td>0</td>\n",
              "      <td>1051</td>\n",
              "      <td>1</td>\n",
              "      <td>3.60</td>\n",
              "      <td>-73.985901</td>\n",
              "      <td>40.768040</td>\n",
              "      <td>24.0</td>\n",
              "      <td>32.0</td>\n",
              "      <td>1182.0</td>\n",
              "      <td>2.016050e+09</td>\n",
              "    </tr>\n",
              "    <tr>\n",
              "      <th>1</th>\n",
              "      <td>2016-05-01</td>\n",
              "      <td>2016-05-01 00:07:31</td>\n",
              "      <td>0</td>\n",
              "      <td>451</td>\n",
              "      <td>1</td>\n",
              "      <td>1.68</td>\n",
              "      <td>-73.991577</td>\n",
              "      <td>40.744751</td>\n",
              "      <td>23.0</td>\n",
              "      <td>29.0</td>\n",
              "      <td>1129.0</td>\n",
              "      <td>2.016050e+09</td>\n",
              "    </tr>\n",
              "    <tr>\n",
              "      <th>2</th>\n",
              "      <td>2016-05-01</td>\n",
              "      <td>2016-05-01 00:07:01</td>\n",
              "      <td>0</td>\n",
              "      <td>421</td>\n",
              "      <td>6</td>\n",
              "      <td>1.09</td>\n",
              "      <td>-73.993073</td>\n",
              "      <td>40.741573</td>\n",
              "      <td>23.0</td>\n",
              "      <td>29.0</td>\n",
              "      <td>1129.0</td>\n",
              "      <td>2.016050e+09</td>\n",
              "    </tr>\n",
              "    <tr>\n",
              "      <th>3</th>\n",
              "      <td>2016-05-01</td>\n",
              "      <td>2016-05-01 00:19:47</td>\n",
              "      <td>0</td>\n",
              "      <td>1187</td>\n",
              "      <td>1</td>\n",
              "      <td>4.21</td>\n",
              "      <td>-73.991943</td>\n",
              "      <td>40.684601</td>\n",
              "      <td>23.0</td>\n",
              "      <td>22.0</td>\n",
              "      <td>1122.0</td>\n",
              "      <td>2.016050e+09</td>\n",
              "    </tr>\n",
              "    <tr>\n",
              "      <th>4</th>\n",
              "      <td>2016-05-01</td>\n",
              "      <td>2016-05-01 00:06:39</td>\n",
              "      <td>0</td>\n",
              "      <td>399</td>\n",
              "      <td>1</td>\n",
              "      <td>0.56</td>\n",
              "      <td>-74.005280</td>\n",
              "      <td>40.740192</td>\n",
              "      <td>22.0</td>\n",
              "      <td>29.0</td>\n",
              "      <td>1079.0</td>\n",
              "      <td>2.016050e+09</td>\n",
              "    </tr>\n",
              "  </tbody>\n",
              "</table>\n",
              "</div>"
            ],
            "text/plain": [
              "  tpep_pickup_datetime tpep_dropoff_datetime  ...  region     timestamp\n",
              "0           2016-05-01   2016-05-01 00:17:31  ...  1182.0  2.016050e+09\n",
              "1           2016-05-01   2016-05-01 00:07:31  ...  1129.0  2.016050e+09\n",
              "2           2016-05-01   2016-05-01 00:07:01  ...  1129.0  2.016050e+09\n",
              "3           2016-05-01   2016-05-01 00:19:47  ...  1122.0  2.016050e+09\n",
              "4           2016-05-01   2016-05-01 00:06:39  ...  1079.0  2.016050e+09\n",
              "\n",
              "[5 rows x 12 columns]"
            ]
          },
          "metadata": {
            "tags": []
          },
          "execution_count": 77
        }
      ]
    },
    {
      "cell_type": "code",
      "metadata": {
        "id": "iYx91Hs-ToPp",
        "colab_type": "code",
        "colab": {}
      },
      "source": [
        "time_bin = np.unique(data_taxi.timestamp)"
      ],
      "execution_count": 0,
      "outputs": []
    },
    {
      "cell_type": "code",
      "metadata": {
        "id": "37GJjH33JzgK",
        "colab_type": "code",
        "colab": {}
      },
      "source": [
        "time_bin = np.arange(0, 25)\n",
        "id_bin = np.arange(0, 2501)"
      ],
      "execution_count": 0,
      "outputs": []
    },
    {
      "cell_type": "code",
      "metadata": {
        "id": "84F93XLaU-jI",
        "colab_type": "code",
        "colab": {}
      },
      "source": [
        "res = binned_statistic_2d(data_taxi.region, data_taxi.timestamp, data_taxi.region, statistic='count', bins=[id_bin,len(time_bin)])"
      ],
      "execution_count": 0,
      "outputs": []
    },
    {
      "cell_type": "code",
      "metadata": {
        "id": "ITw3mP8gS5Fp",
        "colab_type": "code",
        "outputId": "b81057e4-1a61-42d1-eec1-f1720b28c753",
        "colab": {
          "base_uri": "https://localhost:8080/",
          "height": 134
        }
      },
      "source": [
        "res.statistic"
      ],
      "execution_count": 81,
      "outputs": [
        {
          "output_type": "execute_result",
          "data": {
            "text/plain": [
              "array([[0., 0., 0., ..., 0., 0., 0.],\n",
              "       [0., 0., 0., ..., 0., 0., 0.],\n",
              "       [0., 0., 0., ..., 0., 0., 0.],\n",
              "       ...,\n",
              "       [0., 0., 0., ..., 0., 0., 0.],\n",
              "       [0., 0., 0., ..., 0., 0., 0.],\n",
              "       [0., 0., 0., ..., 0., 0., 0.]])"
            ]
          },
          "metadata": {
            "tags": []
          },
          "execution_count": 81
        }
      ]
    },
    {
      "cell_type": "code",
      "metadata": {
        "id": "mnk-yRl9TP_I",
        "colab_type": "code",
        "outputId": "29befe33-1097-40c6-86bf-4047ebfd1122",
        "colab": {
          "base_uri": "https://localhost:8080/",
          "height": 34
        }
      },
      "source": [
        "res.statistic.shape"
      ],
      "execution_count": 82,
      "outputs": [
        {
          "output_type": "execute_result",
          "data": {
            "text/plain": [
              "(2500, 744)"
            ]
          },
          "metadata": {
            "tags": []
          },
          "execution_count": 82
        }
      ]
    },
    {
      "cell_type": "markdown",
      "metadata": {
        "id": "-v1Rf07gaM-R",
        "colab_type": "text"
      },
      "source": [
        "### 4. Выведите первые строки полученной таблицы с указанием времени, идентификатора зоны и количества поездок."
      ]
    },
    {
      "cell_type": "code",
      "metadata": {
        "id": "b0stf0VeTUex",
        "colab_type": "code",
        "outputId": "aa6e1113-6880-432d-913a-c1dc463ebadc",
        "colab": {
          "base_uri": "https://localhost:8080/",
          "height": 34
        }
      },
      "source": [
        "np.unique(res.statistic[:10, :])"
      ],
      "execution_count": 83,
      "outputs": [
        {
          "output_type": "execute_result",
          "data": {
            "text/plain": [
              "array([0.])"
            ]
          },
          "metadata": {
            "tags": []
          },
          "execution_count": 83
        }
      ]
    },
    {
      "cell_type": "code",
      "metadata": {
        "id": "ZJ6NpSUycaTI",
        "colab_type": "code",
        "outputId": "324cab1d-45ef-495d-b7eb-52df1881bb71",
        "colab": {
          "base_uri": "https://localhost:8080/",
          "height": 50
        }
      },
      "source": [
        "np.unique(res.statistic)"
      ],
      "execution_count": 84,
      "outputs": [
        {
          "output_type": "execute_result",
          "data": {
            "text/plain": [
              "array([0.000e+00, 1.000e+00, 2.000e+00, ..., 7.235e+03, 7.285e+03,\n",
              "       7.600e+03])"
            ]
          },
          "metadata": {
            "tags": []
          },
          "execution_count": 84
        }
      ]
    },
    {
      "cell_type": "code",
      "metadata": {
        "id": "Tyc43OY8b1Kr",
        "colab_type": "code",
        "outputId": "e7609dfa-a5c2-4108-d3f1-cefff730c198",
        "colab": {
          "base_uri": "https://localhost:8080/",
          "height": 893
        }
      },
      "source": [
        "plt.figure(figsize = (20, 15))\n",
        "sns.heatmap(res.statistic)"
      ],
      "execution_count": 89,
      "outputs": [
        {
          "output_type": "execute_result",
          "data": {
            "text/plain": [
              "<matplotlib.axes._subplots.AxesSubplot at 0x7f22a083de10>"
            ]
          },
          "metadata": {
            "tags": []
          },
          "execution_count": 89
        },
        {
          "output_type": "display_data",
          "data": {
            "image/png": "[encoded data removed]",
            "text/plain": [
              "<Figure size 1440x1080 with 2 Axes>"
            ]
          },
          "metadata": {
            "tags": [],
            "needs_background": "light"
          }
        }
      ]
    },
    {
      "cell_type": "markdown",
      "metadata": {
        "id": "rnX6mWaRa6tK",
        "colab_type": "text"
      },
      "source": [
        "Не было поездок в первых десяти регионах"
      ]
    },
    {
      "cell_type": "markdown",
      "metadata": {
        "id": "LLvB72TobHWc",
        "colab_type": "text"
      },
      "source": [
        "### 5. Постройте график количества поездок жёлтого такси из ячейки, содержащей Empire State Building."
      ]
    },
    {
      "cell_type": "code",
      "metadata": {
        "id": "xPHa0Io4aTrl",
        "colab_type": "code",
        "colab": {
          "base_uri": "https://localhost:8080/",
          "height": 34
        },
        "outputId": "972a41d0-21d4-47ab-8f59-c1cb463ee710"
      },
      "source": [
        "# нахожу номер региона\n",
        "empire_latitude = 40.748817\n",
        "empire_longitude = -73.985428\n",
        "empire_region = int(find_reg(empire_longitude, empire_latitude))\n",
        "empire_region"
      ],
      "execution_count": 93,
      "outputs": [
        {
          "output_type": "execute_result",
          "data": {
            "text/plain": [
              "1230"
            ]
          },
          "metadata": {
            "tags": []
          },
          "execution_count": 93
        }
      ]
    },
    {
      "cell_type": "code",
      "metadata": {
        "id": "c15O0CVJbP52",
        "colab_type": "code",
        "colab": {
          "base_uri": "https://localhost:8080/",
          "height": 513
        },
        "outputId": "92565637-9a68-4ac4-eb8a-ed5f53ea1c19"
      },
      "source": [
        "plt.figure(figsize=(15,8))\n",
        "plt.plot(res.statistic[empire_region])\n",
        "plt.ylabel(\"Number of trips\")\n",
        "plt.xlabel(\"Day-Hour\")\n",
        "plt.title(\"Empire State Building region\");"
      ],
      "execution_count": 105,
      "outputs": [
        {
          "output_type": "display_data",
          "data": {
            "image/png": "[encoded data removed]",
            "text/plain": [
              "<Figure size 1080x576 with 1 Axes>"
            ]
          },
          "metadata": {
            "tags": [],
            "needs_background": "light"
          }
        }
      ]
    },
    {
      "cell_type": "markdown",
      "metadata": {
        "id": "n7opWlHjfHQk",
        "colab_type": "text"
      },
      "source": [
        "### 6. Посчитайте, сколько в мае 2016 было пар час-ячейка, для которых не было совершено ни одной поездки."
      ]
    },
    {
      "cell_type": "code",
      "metadata": {
        "id": "6k4LM4zhbSqZ",
        "colab_type": "code",
        "colab": {
          "base_uri": "https://localhost:8080/",
          "height": 34
        },
        "outputId": "2431543c-ee24-4d8b-e852-cc081afd23c8"
      },
      "source": [
        "# количество ячеек с нулевым значением\n",
        "np.size(res.statistic) - np.count_nonzero(res.statistic)"
      ],
      "execution_count": 106,
      "outputs": [
        {
          "output_type": "execute_result",
          "data": {
            "text/plain": [
              "1803460"
            ]
          },
          "metadata": {
            "tags": []
          },
          "execution_count": 106
        }
      ]
    },
    {
      "cell_type": "code",
      "metadata": {
        "id": "efz-YPgfcEGi",
        "colab_type": "code",
        "colab": {
          "base_uri": "https://localhost:8080/",
          "height": 34
        },
        "outputId": "472bee73-2499-4382-eb4c-d192a3aaf7b4"
      },
      "source": [
        "# общее количество ячеек\n",
        "np.size(res.statistic)"
      ],
      "execution_count": 107,
      "outputs": [
        {
          "output_type": "execute_result",
          "data": {
            "text/plain": [
              "1860000"
            ]
          },
          "metadata": {
            "tags": []
          },
          "execution_count": 107
        }
      ]
    }
  ]
}